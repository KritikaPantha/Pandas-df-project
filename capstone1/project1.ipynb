{
 "cells": [
  {
   "cell_type": "code",
   "execution_count": 2,
   "id": "e301749f",
   "metadata": {},
   "outputs": [
    {
     "name": "stdout",
     "output_type": "stream",
     "text": [
      "Requirement already satisfied: pandas in c:\\users\\kritika\\appdata\\roaming\\python\\python313\\site-packages (2.3.0)\n",
      "Requirement already satisfied: numpy>=1.26.0 in c:\\users\\kritika\\appdata\\roaming\\python\\python313\\site-packages (from pandas) (2.3.0)\n",
      "Requirement already satisfied: python-dateutil>=2.8.2 in c:\\users\\kritika\\appdata\\roaming\\python\\python313\\site-packages (from pandas) (2.9.0.post0)\n",
      "Requirement already satisfied: pytz>=2020.1 in c:\\users\\kritika\\appdata\\roaming\\python\\python313\\site-packages (from pandas) (2025.2)\n",
      "Requirement already satisfied: tzdata>=2022.7 in c:\\users\\kritika\\appdata\\roaming\\python\\python313\\site-packages (from pandas) (2025.2)\n",
      "Requirement already satisfied: six>=1.5 in c:\\users\\kritika\\appdata\\roaming\\python\\python313\\site-packages (from python-dateutil>=2.8.2->pandas) (1.17.0)\n",
      "Note: you may need to restart the kernel to use updated packages.\n"
     ]
    }
   ],
   "source": [
    "pip install pandas\n"
   ]
  },
  {
   "cell_type": "code",
   "execution_count": 4,
   "id": "51d077b9",
   "metadata": {},
   "outputs": [],
   "source": [
    "import pandas as pd"
   ]
  },
  {
   "cell_type": "code",
   "execution_count": 5,
   "id": "6d9a4a83",
   "metadata": {},
   "outputs": [],
   "source": [
    "users_df = pd.read_csv('C:\\\\Users\\\\Kritika\\\\capstone1\\\\users.csv')"
   ]
  },
  {
   "cell_type": "code",
   "execution_count": null,
   "id": "024acf73",
   "metadata": {},
   "outputs": [],
   "source": [
    "events_df = pd.read_csv('C:\\\\Users\\\\Kritika\\\\capstone1\\\\events.csv')"
   ]
  },
  {
   "cell_type": "code",
   "execution_count": 7,
   "id": "7b8d40f8",
   "metadata": {},
   "outputs": [
    {
     "name": "stdout",
     "output_type": "stream",
     "text": [
      "   user_id           name        plan signup_date\n",
      "0     1001    Alice Smith        free   10/1/2023\n",
      "1     1002      Bob Jones         PRO   10/2/2023\n",
      "2     1003  Charlie Brown  enterprise   10/2/2023\n",
      "3     1004   Diana Prince        free   10/3/2023\n",
      "4     1005     Clark Kent        free   10/5/2023\n",
      "5     1006    Alice Smith        FREE   10/1/2023\n",
      "6     1007    Bruce Wayne         NaN   10/4/2023\n"
     ]
    }
   ],
   "source": [
    "print(users_df)"
   ]
  },
  {
   "cell_type": "code",
   "execution_count": 8,
   "id": "7f5ebf9f",
   "metadata": {},
   "outputs": [],
   "source": [
    "#user data\n",
    "# Remove duplicate users (based on `user_id`). \n",
    "users_df1 = users_df.drop_duplicates(subset=['user_id'], keep='first')"
   ]
  },
  {
   "cell_type": "code",
   "execution_count": 9,
   "id": "8f12d93c",
   "metadata": {},
   "outputs": [
    {
     "name": "stdout",
     "output_type": "stream",
     "text": [
      "   user_id           name        plan signup_date\n",
      "0     1001    Alice Smith        free   10/1/2023\n",
      "1     1002      Bob Jones         PRO   10/2/2023\n",
      "2     1003  Charlie Brown  enterprise   10/2/2023\n",
      "3     1004   Diana Prince        free   10/3/2023\n",
      "4     1005     Clark Kent        free   10/5/2023\n",
      "5     1006    Alice Smith        FREE   10/1/2023\n",
      "6     1007    Bruce Wayne         NaN   10/4/2023\n"
     ]
    }
   ],
   "source": [
    "print(users_df1) #there are no same user_id so no change"
   ]
  },
  {
   "cell_type": "code",
   "execution_count": 10,
   "id": "2750b283",
   "metadata": {},
   "outputs": [],
   "source": [
    "#Standardize the `plan` column to be all lowercase (e.g., `'PRO'` becomes `'pro'`). \n",
    "users_df1['plan'] = users_df1['plan'].str.lower()"
   ]
  },
  {
   "cell_type": "code",
   "execution_count": 11,
   "id": "391cbe40",
   "metadata": {},
   "outputs": [
    {
     "name": "stdout",
     "output_type": "stream",
     "text": [
      "   user_id           name        plan signup_date\n",
      "0     1001    Alice Smith        free   10/1/2023\n",
      "1     1002      Bob Jones         pro   10/2/2023\n",
      "2     1003  Charlie Brown  enterprise   10/2/2023\n",
      "3     1004   Diana Prince        free   10/3/2023\n",
      "4     1005     Clark Kent        free   10/5/2023\n",
      "5     1006    Alice Smith        free   10/1/2023\n",
      "6     1007    Bruce Wayne         NaN   10/4/2023\n"
     ]
    }
   ],
   "source": [
    "print(users_df1)"
   ]
  },
  {
   "cell_type": "code",
   "execution_count": 12,
   "id": "f00d3037",
   "metadata": {},
   "outputs": [],
   "source": [
    "#Fill missing values in the plan column with 'free'.\n",
    "users_df1['plan'] = users_df1['plan'].fillna('free')"
   ]
  },
  {
   "cell_type": "code",
   "execution_count": 24,
   "id": "8a4b4fe0",
   "metadata": {},
   "outputs": [
    {
     "name": "stdout",
     "output_type": "stream",
     "text": [
      "   user_id           name        plan signup_date\n",
      "0     1001    Alice Smith        free   10/1/2023\n",
      "1     1002      Bob Jones         pro   10/2/2023\n",
      "2     1003  Charlie Brown  enterprise   10/2/2023\n",
      "3     1004   Diana Prince        free   10/3/2023\n",
      "4     1005     Clark Kent        free   10/5/2023\n",
      "5     1006    Alice Smith        free   10/1/2023\n",
      "6     1007    Bruce Wayne        free   10/4/2023\n"
     ]
    }
   ],
   "source": [
    "print(users_df1)\n",
    "#print(users_df1['plan'])"
   ]
  },
  {
   "cell_type": "code",
   "execution_count": 27,
   "id": "8278c184",
   "metadata": {},
   "outputs": [
    {
     "name": "stdout",
     "output_type": "stream",
     "text": [
      "   event_id  user_id       event_time    event_type                      page\n",
      "0         1     1001   10/5/2023 8:30         login                     /home\n",
      "1         2     1001   10/5/2023 8:31     view_page                  /pricing\n",
      "2         3     1002   10/5/2023 9:15         login                     /home\n",
      "3         4     1002   10/5/2023 9:16  click_button    \"/pricing get_started\"\n",
      "4         5     1003  10/5/2023 10:01         login                     /home\n",
      "5         6     1005  10/5/2023 11:45         login                     /home\n",
      "6         7     9999  10/5/2023 12:00     view_page  /about //Invalid user_id\n",
      "7         8     1001  10/5/2023 14:22        logout                     /home\n",
      "8         9     1002  10/5/2023 15:10     view_page                 /features\n",
      "9        10     1004  10/5/2023 15:11         login                     /home\n"
     ]
    }
   ],
   "source": [
    "print(events_df)"
   ]
  },
  {
   "cell_type": "code",
   "execution_count": null,
   "id": "358cdf00",
   "metadata": {},
   "outputs": [],
   "source": [
    "#events_data\n",
    "#Filter out events that have a `user_id` not present in the cleaned users dataframe. This is handling \"referential integrity\". \n",
    "events_df1 = events_df[events_df['user_id'].isin(users_df1['user_id'])]"
   ]
  },
  {
   "cell_type": "code",
   "execution_count": 29,
   "id": "d44d72c1",
   "metadata": {},
   "outputs": [
    {
     "name": "stdout",
     "output_type": "stream",
     "text": [
      "   event_id  user_id       event_time    event_type                    page\n",
      "0         1     1001   10/5/2023 8:30         login                   /home\n",
      "1         2     1001   10/5/2023 8:31     view_page                /pricing\n",
      "2         3     1002   10/5/2023 9:15         login                   /home\n",
      "3         4     1002   10/5/2023 9:16  click_button  \"/pricing get_started\"\n",
      "4         5     1003  10/5/2023 10:01         login                   /home\n",
      "5         6     1005  10/5/2023 11:45         login                   /home\n",
      "7         8     1001  10/5/2023 14:22        logout                   /home\n",
      "8         9     1002  10/5/2023 15:10     view_page               /features\n",
      "9        10     1004  10/5/2023 15:11         login                   /home\n"
     ]
    }
   ],
   "source": [
    "print(events_df1)"
   ]
  },
  {
   "cell_type": "code",
   "execution_count": 30,
   "id": "609ad5e2",
   "metadata": {},
   "outputs": [
    {
     "name": "stderr",
     "output_type": "stream",
     "text": [
      "C:\\Users\\Kritika\\AppData\\Local\\Temp\\ipykernel_18732\\3271004116.py:2: SettingWithCopyWarning: \n",
      "A value is trying to be set on a copy of a slice from a DataFrame.\n",
      "Try using .loc[row_indexer,col_indexer] = value instead\n",
      "\n",
      "See the caveats in the documentation: https://pandas.pydata.org/pandas-docs/stable/user_guide/indexing.html#returning-a-view-versus-a-copy\n",
      "  events_df1['event_time'] = pd.to_datetime(events_df1['event_time'])\n"
     ]
    }
   ],
   "source": [
    "#  Convert the `event_time` column to a proper datetime format. \n",
    "events_df1['event_time'] = pd.to_datetime(events_df1['event_time'])"
   ]
  },
  {
   "cell_type": "code",
   "execution_count": 31,
   "id": "e21e6acf",
   "metadata": {},
   "outputs": [
    {
     "name": "stdout",
     "output_type": "stream",
     "text": [
      "   event_id  user_id          event_time    event_type                    page\n",
      "0         1     1001 2023-10-05 08:30:00         login                   /home\n",
      "1         2     1001 2023-10-05 08:31:00     view_page                /pricing\n",
      "2         3     1002 2023-10-05 09:15:00         login                   /home\n",
      "3         4     1002 2023-10-05 09:16:00  click_button  \"/pricing get_started\"\n",
      "4         5     1003 2023-10-05 10:01:00         login                   /home\n",
      "5         6     1005 2023-10-05 11:45:00         login                   /home\n",
      "7         8     1001 2023-10-05 14:22:00        logout                   /home\n",
      "8         9     1002 2023-10-05 15:10:00     view_page               /features\n",
      "9        10     1004 2023-10-05 15:11:00         login                   /home\n"
     ]
    }
   ],
   "source": [
    "print(events_df1)"
   ]
  },
  {
   "cell_type": "code",
   "execution_count": 34,
   "id": "80cda6b1",
   "metadata": {},
   "outputs": [
    {
     "name": "stdout",
     "output_type": "stream",
     "text": [
      "event_id               int64\n",
      "user_id                int64\n",
      "event_time    datetime64[ns]\n",
      "event_type            object\n",
      "page                  object\n",
      "dtype: object\n"
     ]
    }
   ],
   "source": [
    "print(events_df1.dtypes)"
   ]
  },
  {
   "cell_type": "code",
   "execution_count": 35,
   "id": "262a3778",
   "metadata": {},
   "outputs": [],
   "source": [
    "#analysis\n",
    "#Merge the cleaned events and user data. \n",
    "merged_df = events_df1.merge(users_df1, on='user_id', how='left')"
   ]
  },
  {
   "cell_type": "code",
   "execution_count": 36,
   "id": "2b0c9122",
   "metadata": {},
   "outputs": [
    {
     "name": "stdout",
     "output_type": "stream",
     "text": [
      "   event_id  user_id          event_time    event_type  \\\n",
      "0         1     1001 2023-10-05 08:30:00         login   \n",
      "1         2     1001 2023-10-05 08:31:00     view_page   \n",
      "2         3     1002 2023-10-05 09:15:00         login   \n",
      "3         4     1002 2023-10-05 09:16:00  click_button   \n",
      "4         5     1003 2023-10-05 10:01:00         login   \n",
      "5         6     1005 2023-10-05 11:45:00         login   \n",
      "6         8     1001 2023-10-05 14:22:00        logout   \n",
      "7         9     1002 2023-10-05 15:10:00     view_page   \n",
      "8        10     1004 2023-10-05 15:11:00         login   \n",
      "\n",
      "                     page           name        plan signup_date  \n",
      "0                   /home    Alice Smith        free   10/1/2023  \n",
      "1                /pricing    Alice Smith        free   10/1/2023  \n",
      "2                   /home      Bob Jones         pro   10/2/2023  \n",
      "3  \"/pricing get_started\"      Bob Jones         pro   10/2/2023  \n",
      "4                   /home  Charlie Brown  enterprise   10/2/2023  \n",
      "5                   /home     Clark Kent        free   10/5/2023  \n",
      "6                   /home    Alice Smith        free   10/1/2023  \n",
      "7               /features      Bob Jones         pro   10/2/2023  \n",
      "8                   /home   Diana Prince        free   10/3/2023  \n"
     ]
    }
   ],
   "source": [
    "print(merged_df)"
   ]
  },
  {
   "cell_type": "code",
   "execution_count": 38,
   "id": "4a05f2ed",
   "metadata": {},
   "outputs": [],
   "source": [
    "# Create a summary DataFrame that shows, for each user plan (`free`, `pro`, `enterprise`):\n",
    "#  - The number of unique users. - The total number of events. - The most common event type. \n",
    "summary_df = merged_df.groupby('plan').agg(\n",
    "    unique_users = ('user_id', 'nunique'),\n",
    "    total_events = ('event_id', 'count'),\n",
    "    most_common_event = ('event_type', lambda x: x.mode()[0]) \n",
    ").reset_index()"
   ]
  },
  {
   "cell_type": "code",
   "execution_count": 39,
   "id": "69cfb3d3",
   "metadata": {},
   "outputs": [
    {
     "name": "stdout",
     "output_type": "stream",
     "text": [
      "         plan  unique_users  total_events most_common_event\n",
      "0  enterprise             1             1             login\n",
      "1        free             3             5             login\n",
      "2         pro             1             3      click_button\n"
     ]
    }
   ],
   "source": [
    "print(summary_df)"
   ]
  },
  {
   "cell_type": "code",
   "execution_count": 40,
   "id": "cc37aa57",
   "metadata": {},
   "outputs": [],
   "source": [
    "#Save the final summary table to a new CSV file called `user_activity_summary.csv \n",
    "summary_df.to_csv('user_activity_summary.csv', index=False)"
   ]
  }
 ],
 "metadata": {
  "kernelspec": {
   "display_name": "base",
   "language": "python",
   "name": "python3"
  },
  "language_info": {
   "codemirror_mode": {
    "name": "ipython",
    "version": 3
   },
   "file_extension": ".py",
   "mimetype": "text/x-python",
   "name": "python",
   "nbconvert_exporter": "python",
   "pygments_lexer": "ipython3",
   "version": "3.13.2"
  }
 },
 "nbformat": 4,
 "nbformat_minor": 5
}
